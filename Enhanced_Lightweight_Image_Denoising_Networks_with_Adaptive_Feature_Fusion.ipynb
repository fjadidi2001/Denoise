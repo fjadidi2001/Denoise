{
  "nbformat": 4,
  "nbformat_minor": 0,
  "metadata": {
    "colab": {
      "provenance": [],
      "gpuType": "T4",
      "authorship_tag": "ABX9TyOwWRX+ahM3LC60/M04/fLF",
      "include_colab_link": true
    },
    "kernelspec": {
      "name": "python3",
      "display_name": "Python 3"
    },
    "language_info": {
      "name": "python"
    },
    "accelerator": "GPU"
  },
  "cells": [
    {
      "cell_type": "markdown",
      "metadata": {
        "id": "view-in-github",
        "colab_type": "text"
      },
      "source": [
        "<a href=\"https://colab.research.google.com/github/fjadidi2001/Denoise/blob/main/Enhanced_Lightweight_Image_Denoising_Networks_with_Adaptive_Feature_Fusion.ipynb\" target=\"_parent\"><img src=\"https://colab.research.google.com/assets/colab-badge.svg\" alt=\"Open In Colab\"/></a>"
      ]
    },
    {
      "cell_type": "code",
      "source": [
        "from google.colab import drive\n",
        "drive.mount('/content/drive')"
      ],
      "metadata": {
        "colab": {
          "base_uri": "https://localhost:8080/"
        },
        "id": "J2pVo_xmgF1J",
        "outputId": "109c3491-4d6a-4873-edd5-0e8a381c4d14"
      },
      "execution_count": 1,
      "outputs": [
        {
          "output_type": "stream",
          "name": "stdout",
          "text": [
            "Mounted at /content/drive\n"
          ]
        }
      ]
    },
    {
      "cell_type": "code",
      "execution_count": 2,
      "metadata": {
        "colab": {
          "base_uri": "https://localhost:8080/"
        },
        "id": "ukFqoNc5cfIv",
        "outputId": "776afc79-1233-40ef-fdba-830f1b5b7575"
      },
      "outputs": [
        {
          "output_type": "stream",
          "name": "stdout",
          "text": [
            "Project Setup Complete!\n",
            "Base directory: /content/drive/MyDrive/SSNet\n",
            "CUDA available: True\n"
          ]
        }
      ],
      "source": [
        "import os\n",
        "import random\n",
        "import numpy as np\n",
        "import torch\n",
        "\n",
        "# Set base directory\n",
        "base_dir = '/content/drive/MyDrive/SSNet'\n",
        "os.makedirs(f'{base_dir}/data', exist_ok=True)\n",
        "os.makedirs(f'{base_dir}/output', exist_ok=True)\n",
        "os.makedirs(f'{base_dir}/saved_models', exist_ok=True)\n",
        "\n",
        "# Set random seeds for reproducibility\n",
        "def seed_torch(seed=1029):\n",
        "    random.seed(seed)\n",
        "    os.environ['PYTHONHASHSEED'] = str(seed)\n",
        "    np.random.seed(seed)\n",
        "    torch.manual_seed(seed)\n",
        "    torch.cuda.manual_seed(seed)\n",
        "    torch.cuda.manual_seed_all(seed)\n",
        "    torch.backends.cudnn.benchmark = False\n",
        "    torch.backends.cudnn.deterministic = True\n",
        "\n",
        "seed_torch()\n",
        "\n",
        "print(\"Project Setup Complete!\")\n",
        "print(f\"Base directory: {base_dir}\")\n",
        "print(f\"CUDA available: {torch.cuda.is_available()}\")"
      ]
    },
    {
      "cell_type": "code",
      "source": [],
      "metadata": {
        "id": "yF1jKQBpgHef"
      },
      "execution_count": null,
      "outputs": []
    }
  ]
}